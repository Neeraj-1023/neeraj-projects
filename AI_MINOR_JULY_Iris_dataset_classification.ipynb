{
  "nbformat": 4,
  "nbformat_minor": 0,
  "metadata": {
    "colab": {
      "name": "AI-MINOR-JULY_Iris_dataset_classification.ipynb",
      "provenance": [],
      "collapsed_sections": []
    },
    "kernelspec": {
      "name": "python3",
      "display_name": "Python 3"
    }
  },
  "cells": [
    {
      "cell_type": "markdown",
      "metadata": {
        "id": "7ox6Dt5AdFSe",
        "colab_type": "text"
      },
      "source": [
        "#Iris Dataset Classification\n",
        "\n",
        "This classification problem deals with the three species of the Iris flower and classifying them on the basis of their dimentions of their sepals and petals.\n",
        "\n",
        "##Importing the important methods and libraries"
      ]
    },
    {
      "cell_type": "code",
      "metadata": {
        "id": "cn9Lvfq_zPee",
        "colab_type": "code",
        "colab": {}
      },
      "source": [
        "import keras\n",
        "from sklearn.model_selection import train_test_split\n",
        "from sklearn.preprocessing import StandardScaler\n",
        "from keras.models import Sequential\n",
        "from keras.layers import Dense\n",
        "import pandas as pd\n",
        "import numpy as np"
      ],
      "execution_count": null,
      "outputs": []
    },
    {
      "cell_type": "markdown",
      "metadata": {
        "id": "W06GY6Chds0T",
        "colab_type": "text"
      },
      "source": [
        "##Importing the Dataset\n",
        "Dataset link: https://www.kaggle.com/uciml/iris"
      ]
    },
    {
      "cell_type": "code",
      "metadata": {
        "id": "UNiJHzz6ztgB",
        "colab_type": "code",
        "colab": {
          "base_uri": "https://localhost:8080/",
          "height": 195
        },
        "outputId": "e3374cbc-7cfd-4242-b056-84fc35d572d4"
      },
      "source": [
        "data_set = pd.read_csv(r\"/content/drive/My Drive/datasets_19_420_Iris.csv\") #The dataset is stored\n",
        "data_set.head()"
      ],
      "execution_count": null,
      "outputs": [
        {
          "output_type": "execute_result",
          "data": {
            "text/html": [
              "<div>\n",
              "<style scoped>\n",
              "    .dataframe tbody tr th:only-of-type {\n",
              "        vertical-align: middle;\n",
              "    }\n",
              "\n",
              "    .dataframe tbody tr th {\n",
              "        vertical-align: top;\n",
              "    }\n",
              "\n",
              "    .dataframe thead th {\n",
              "        text-align: right;\n",
              "    }\n",
              "</style>\n",
              "<table border=\"1\" class=\"dataframe\">\n",
              "  <thead>\n",
              "    <tr style=\"text-align: right;\">\n",
              "      <th></th>\n",
              "      <th>Id</th>\n",
              "      <th>SepalLengthCm</th>\n",
              "      <th>SepalWidthCm</th>\n",
              "      <th>PetalLengthCm</th>\n",
              "      <th>PetalWidthCm</th>\n",
              "      <th>Species</th>\n",
              "    </tr>\n",
              "  </thead>\n",
              "  <tbody>\n",
              "    <tr>\n",
              "      <th>0</th>\n",
              "      <td>1</td>\n",
              "      <td>5.1</td>\n",
              "      <td>3.5</td>\n",
              "      <td>1.4</td>\n",
              "      <td>0.2</td>\n",
              "      <td>Iris-setosa</td>\n",
              "    </tr>\n",
              "    <tr>\n",
              "      <th>1</th>\n",
              "      <td>2</td>\n",
              "      <td>4.9</td>\n",
              "      <td>3.0</td>\n",
              "      <td>1.4</td>\n",
              "      <td>0.2</td>\n",
              "      <td>Iris-setosa</td>\n",
              "    </tr>\n",
              "    <tr>\n",
              "      <th>2</th>\n",
              "      <td>3</td>\n",
              "      <td>4.7</td>\n",
              "      <td>3.2</td>\n",
              "      <td>1.3</td>\n",
              "      <td>0.2</td>\n",
              "      <td>Iris-setosa</td>\n",
              "    </tr>\n",
              "    <tr>\n",
              "      <th>3</th>\n",
              "      <td>4</td>\n",
              "      <td>4.6</td>\n",
              "      <td>3.1</td>\n",
              "      <td>1.5</td>\n",
              "      <td>0.2</td>\n",
              "      <td>Iris-setosa</td>\n",
              "    </tr>\n",
              "    <tr>\n",
              "      <th>4</th>\n",
              "      <td>5</td>\n",
              "      <td>5.0</td>\n",
              "      <td>3.6</td>\n",
              "      <td>1.4</td>\n",
              "      <td>0.2</td>\n",
              "      <td>Iris-setosa</td>\n",
              "    </tr>\n",
              "  </tbody>\n",
              "</table>\n",
              "</div>"
            ],
            "text/plain": [
              "   Id  SepalLengthCm  SepalWidthCm  PetalLengthCm  PetalWidthCm      Species\n",
              "0   1            5.1           3.5            1.4           0.2  Iris-setosa\n",
              "1   2            4.9           3.0            1.4           0.2  Iris-setosa\n",
              "2   3            4.7           3.2            1.3           0.2  Iris-setosa\n",
              "3   4            4.6           3.1            1.5           0.2  Iris-setosa\n",
              "4   5            5.0           3.6            1.4           0.2  Iris-setosa"
            ]
          },
          "metadata": {
            "tags": []
          },
          "execution_count": 2
        }
      ]
    },
    {
      "cell_type": "markdown",
      "metadata": {
        "id": "JUrshPsYd6ci",
        "colab_type": "text"
      },
      "source": [
        "##Obtaining the features and targets from the dataset\n",
        "In this step, we obtain the features and the targets from the dataset.The target is encoded numerically. The features and targets are splitted into training data and testing data. The training target is now one hot encoded."
      ]
    },
    {
      "cell_type": "code",
      "metadata": {
        "id": "GNlXUWl70ifX",
        "colab_type": "code",
        "colab": {}
      },
      "source": [
        "target2 = data_set['Species'].values\n",
        "features = data_set.drop(labels = ['Species','Id'],axis = 1).values\n",
        "\n",
        "target1 = []\n",
        "for s in target2:                       #Encoding the target strings to numbers\n",
        "    if s == 'Iris-setosa':\n",
        "        target1.append(0)\n",
        "    elif s == 'Iris-versicolor':\n",
        "        target1.append(1)\n",
        "    else:\n",
        "        target1.append(2)\n",
        "\n",
        "target0 = np.array(target1)\n",
        "\n",
        "X_train, X_test, Y_train, Y_test = train_test_split(features,target0,test_size = 0.2,stratify = target0,random_state = 20)  #Splitting the training and testing data\n",
        "Y_train = keras.utils.to_categorical(Y_train,num_classes = 3)  #One hot encoding the training target"
      ],
      "execution_count": null,
      "outputs": []
    },
    {
      "cell_type": "markdown",
      "metadata": {
        "id": "UNyJBw_Ye118",
        "colab_type": "text"
      },
      "source": [
        "##Normalizing the training and testing features\n",
        "There is a need to scale the features of the dataset so that all the features contribute to the prediction equally. We use Standard scaler from sklearn.preprocessing library. The scaler fits the training data for appropriate normalization and then transform both training and testing data by the same scaler"
      ]
    },
    {
      "cell_type": "code",
      "metadata": {
        "id": "L9kv0U7YMRpU",
        "colab_type": "code",
        "colab": {}
      },
      "source": [
        "scaler = StandardScaler()\n",
        "scaler.fit(X_train)\n",
        "X_train = scaler.transform(X_train)\n",
        "X_test = scaler.transform(X_test)"
      ],
      "execution_count": null,
      "outputs": []
    },
    {
      "cell_type": "markdown",
      "metadata": {
        "id": "dUShwRjKfZZi",
        "colab_type": "text"
      },
      "source": [
        "#Defining the Neural Network\n",
        "This neural network has an input layer with 150 nodes and two hiddin layers with 100 and 50 nodes respectively. The activation function used for the input and the hidden layers is relu and for the output layer, we use softmax function for the probabilities. We need to classify the features into anyone of the three species and therefore we need three nodes in the output layer."
      ]
    },
    {
      "cell_type": "code",
      "metadata": {
        "id": "MLs-cMY-9XiR",
        "colab_type": "code",
        "colab": {
          "base_uri": "https://localhost:8080/",
          "height": 286
        },
        "outputId": "88b413e0-9837-410e-fd06-dd8bd4741c9b"
      },
      "source": [
        "model = Sequential()\n",
        "\n",
        "model.add(Dense(150,activation = 'relu',input_shape = (features.shape[1],)))\n",
        "model.add(Dense(100,activation = 'relu'))\n",
        "model.add(Dense(50,activation = 'relu'))\n",
        "model.add(Dense(3,activation = 'softmax'))     #Output Layer\n",
        "\n",
        "model.summary()"
      ],
      "execution_count": null,
      "outputs": [
        {
          "output_type": "stream",
          "text": [
            "Model: \"sequential\"\n",
            "_________________________________________________________________\n",
            "Layer (type)                 Output Shape              Param #   \n",
            "=================================================================\n",
            "dense (Dense)                (None, 150)               750       \n",
            "_________________________________________________________________\n",
            "dense_1 (Dense)              (None, 100)               15100     \n",
            "_________________________________________________________________\n",
            "dense_2 (Dense)              (None, 50)                5050      \n",
            "_________________________________________________________________\n",
            "dense_3 (Dense)              (None, 3)                 153       \n",
            "=================================================================\n",
            "Total params: 21,053\n",
            "Trainable params: 21,053\n",
            "Non-trainable params: 0\n",
            "_________________________________________________________________\n"
          ],
          "name": "stdout"
        }
      ]
    },
    {
      "cell_type": "markdown",
      "metadata": {
        "id": "NBtISdD5gIOM",
        "colab_type": "text"
      },
      "source": [
        "#Compiling the Model\n",
        "The model is now compiled by using the adam optimizer and categorical crossentropy loss. We want to display the accuracy while training, so we mention the accuracy metrics here itself."
      ]
    },
    {
      "cell_type": "code",
      "metadata": {
        "id": "JACWs-at-JyF",
        "colab_type": "code",
        "colab": {}
      },
      "source": [
        "model.compile(optimizer = 'adam',loss = 'categorical_crossentropy',metrics = ['accuracy'])"
      ],
      "execution_count": null,
      "outputs": []
    },
    {
      "cell_type": "markdown",
      "metadata": {
        "id": "nGQXCl4sga8b",
        "colab_type": "text"
      },
      "source": [
        "##Training the model\n",
        "The model is trained for 20 epochs"
      ]
    },
    {
      "cell_type": "code",
      "metadata": {
        "id": "iM5TbqAw-Yi-",
        "colab_type": "code",
        "colab": {
          "base_uri": "https://localhost:8080/",
          "height": 706
        },
        "outputId": "7c811272-2aef-4edc-fcaf-3b3bfc4176ec"
      },
      "source": [
        "model.fit(X_train,Y_train,epochs = 20)"
      ],
      "execution_count": null,
      "outputs": [
        {
          "output_type": "stream",
          "text": [
            "Epoch 1/20\n",
            "4/4 [==============================] - 0s 3ms/step - loss: 1.0560 - accuracy: 0.4583\n",
            "Epoch 2/20\n",
            "4/4 [==============================] - 0s 3ms/step - loss: 0.8872 - accuracy: 0.7833\n",
            "Epoch 3/20\n",
            "4/4 [==============================] - 0s 3ms/step - loss: 0.7560 - accuracy: 0.8167\n",
            "Epoch 4/20\n",
            "4/4 [==============================] - 0s 2ms/step - loss: 0.6431 - accuracy: 0.8167\n",
            "Epoch 5/20\n",
            "4/4 [==============================] - 0s 2ms/step - loss: 0.5439 - accuracy: 0.8167\n",
            "Epoch 6/20\n",
            "4/4 [==============================] - 0s 2ms/step - loss: 0.4584 - accuracy: 0.8250\n",
            "Epoch 7/20\n",
            "4/4 [==============================] - 0s 2ms/step - loss: 0.3943 - accuracy: 0.8333\n",
            "Epoch 8/20\n",
            "4/4 [==============================] - 0s 2ms/step - loss: 0.3458 - accuracy: 0.8583\n",
            "Epoch 9/20\n",
            "4/4 [==============================] - 0s 2ms/step - loss: 0.3113 - accuracy: 0.8667\n",
            "Epoch 10/20\n",
            "4/4 [==============================] - 0s 3ms/step - loss: 0.2788 - accuracy: 0.8833\n",
            "Epoch 11/20\n",
            "4/4 [==============================] - 0s 3ms/step - loss: 0.2529 - accuracy: 0.9083\n",
            "Epoch 12/20\n",
            "4/4 [==============================] - 0s 2ms/step - loss: 0.2313 - accuracy: 0.9250\n",
            "Epoch 13/20\n",
            "4/4 [==============================] - 0s 3ms/step - loss: 0.2107 - accuracy: 0.9333\n",
            "Epoch 14/20\n",
            "4/4 [==============================] - 0s 2ms/step - loss: 0.1932 - accuracy: 0.9167\n",
            "Epoch 15/20\n",
            "4/4 [==============================] - 0s 4ms/step - loss: 0.1782 - accuracy: 0.9333\n",
            "Epoch 16/20\n",
            "4/4 [==============================] - 0s 3ms/step - loss: 0.1630 - accuracy: 0.9417\n",
            "Epoch 17/20\n",
            "4/4 [==============================] - 0s 4ms/step - loss: 0.1493 - accuracy: 0.9417\n",
            "Epoch 18/20\n",
            "4/4 [==============================] - 0s 3ms/step - loss: 0.1427 - accuracy: 0.9333\n",
            "Epoch 19/20\n",
            "4/4 [==============================] - 0s 3ms/step - loss: 0.1277 - accuracy: 0.9500\n",
            "Epoch 20/20\n",
            "4/4 [==============================] - 0s 3ms/step - loss: 0.1184 - accuracy: 0.9500\n"
          ],
          "name": "stdout"
        },
        {
          "output_type": "execute_result",
          "data": {
            "text/plain": [
              "<tensorflow.python.keras.callbacks.History at 0x7f510c3c3780>"
            ]
          },
          "metadata": {
            "tags": []
          },
          "execution_count": 7
        }
      ]
    },
    {
      "cell_type": "markdown",
      "metadata": {
        "id": "3LsX_1Z1gmVr",
        "colab_type": "text"
      },
      "source": [
        ""
      ]
    },
    {
      "cell_type": "markdown",
      "metadata": {
        "id": "3oXW2XwbgmY8",
        "colab_type": "text"
      },
      "source": [
        "##Obtaining the results\n",
        "Saved the model for further usage. The predicions are obtained and stored in the 'result' array for the testing set."
      ]
    },
    {
      "cell_type": "code",
      "metadata": {
        "id": "rPbTSMlGOl9a",
        "colab_type": "code",
        "colab": {}
      },
      "source": [
        "model.save(\"/content/drive/My Drive/iris_model.h5\")\n",
        "result = model.predict(X_test)"
      ],
      "execution_count": null,
      "outputs": []
    },
    {
      "cell_type": "markdown",
      "metadata": {
        "id": "E4GPml8lg51b",
        "colab_type": "text"
      },
      "source": [
        "##Result processing\n",
        "There is a need to process the obtained results. Since the output of the neural network is a set of probabilities for the different classes, we need to translate the predicted probabilities to their respective meanings. The information is now decoded for furthur understanding in human language."
      ]
    },
    {
      "cell_type": "code",
      "metadata": {
        "id": "sKR140i-Wdht",
        "colab_type": "code",
        "colab": {}
      },
      "source": [
        "mapping = {0 : 'Iris-setosa',1 : 'Iris-versicolor',2 : 'Iris-virginica'}\n",
        "\n",
        "predictions = []\n",
        "actual = []\n",
        "comments = []\n",
        "test_case = []\n",
        "for a in result:\n",
        "    for i in range(len(a)):\n",
        "        if a[i] == max(a):\n",
        "            predictions.append(mapping[i])\n",
        "count = 1\n",
        "for i in Y_test:\n",
        "    actual.append(mapping[i])\n",
        "    test_case.append(count)\n",
        "    count = count + 1\n",
        "\n",
        "for i in range(len(predictions)):\n",
        "    if predictions[i] == actual[i]:\n",
        "        comments.append('Correct prediction')\n",
        "    else:\n",
        "        comments.append('Incorrect prediction')\n",
        "predictions = np.array(predictions)\n",
        "actual = np.array(actual)\n",
        "comments = np.array(comments)\n",
        "test_case = np.array(test_case)"
      ],
      "execution_count": null,
      "outputs": []
    },
    {
      "cell_type": "markdown",
      "metadata": {
        "id": "epfgyhdjheGU",
        "colab_type": "text"
      },
      "source": [
        "#Tabular Representation of Predictions\n",
        "We now represent the predictions of the neural networks along with their respective actual values and draw conclutions in a tabular form"
      ]
    },
    {
      "cell_type": "code",
      "metadata": {
        "id": "N8PizdBwYFA-",
        "colab_type": "code",
        "colab": {
          "base_uri": "https://localhost:8080/",
          "height": 935
        },
        "outputId": "06c81ab1-c659-4aec-8734-54fb2d6feb6f"
      },
      "source": [
        "data = {\"Test Case\": test_case,\"Actual Species\" : actual,\"Prediction\" : predictions,\"Comments\" : comments}\n",
        "\n",
        "result_table = pd.DataFrame(data,columns = ['Test Case','Actual Species','Prediction','Comments'])\n",
        "result_table.head(len(actual))"
      ],
      "execution_count": null,
      "outputs": [
        {
          "output_type": "execute_result",
          "data": {
            "text/html": [
              "<div>\n",
              "<style scoped>\n",
              "    .dataframe tbody tr th:only-of-type {\n",
              "        vertical-align: middle;\n",
              "    }\n",
              "\n",
              "    .dataframe tbody tr th {\n",
              "        vertical-align: top;\n",
              "    }\n",
              "\n",
              "    .dataframe thead th {\n",
              "        text-align: right;\n",
              "    }\n",
              "</style>\n",
              "<table border=\"1\" class=\"dataframe\">\n",
              "  <thead>\n",
              "    <tr style=\"text-align: right;\">\n",
              "      <th></th>\n",
              "      <th>Test Case</th>\n",
              "      <th>Actual Species</th>\n",
              "      <th>Prediction</th>\n",
              "      <th>Comments</th>\n",
              "    </tr>\n",
              "  </thead>\n",
              "  <tbody>\n",
              "    <tr>\n",
              "      <th>0</th>\n",
              "      <td>1</td>\n",
              "      <td>Iris-versicolor</td>\n",
              "      <td>Iris-versicolor</td>\n",
              "      <td>Correct prediction</td>\n",
              "    </tr>\n",
              "    <tr>\n",
              "      <th>1</th>\n",
              "      <td>2</td>\n",
              "      <td>Iris-versicolor</td>\n",
              "      <td>Iris-versicolor</td>\n",
              "      <td>Correct prediction</td>\n",
              "    </tr>\n",
              "    <tr>\n",
              "      <th>2</th>\n",
              "      <td>3</td>\n",
              "      <td>Iris-versicolor</td>\n",
              "      <td>Iris-versicolor</td>\n",
              "      <td>Correct prediction</td>\n",
              "    </tr>\n",
              "    <tr>\n",
              "      <th>3</th>\n",
              "      <td>4</td>\n",
              "      <td>Iris-virginica</td>\n",
              "      <td>Iris-virginica</td>\n",
              "      <td>Correct prediction</td>\n",
              "    </tr>\n",
              "    <tr>\n",
              "      <th>4</th>\n",
              "      <td>5</td>\n",
              "      <td>Iris-setosa</td>\n",
              "      <td>Iris-setosa</td>\n",
              "      <td>Correct prediction</td>\n",
              "    </tr>\n",
              "    <tr>\n",
              "      <th>5</th>\n",
              "      <td>6</td>\n",
              "      <td>Iris-setosa</td>\n",
              "      <td>Iris-setosa</td>\n",
              "      <td>Correct prediction</td>\n",
              "    </tr>\n",
              "    <tr>\n",
              "      <th>6</th>\n",
              "      <td>7</td>\n",
              "      <td>Iris-versicolor</td>\n",
              "      <td>Iris-versicolor</td>\n",
              "      <td>Correct prediction</td>\n",
              "    </tr>\n",
              "    <tr>\n",
              "      <th>7</th>\n",
              "      <td>8</td>\n",
              "      <td>Iris-versicolor</td>\n",
              "      <td>Iris-versicolor</td>\n",
              "      <td>Correct prediction</td>\n",
              "    </tr>\n",
              "    <tr>\n",
              "      <th>8</th>\n",
              "      <td>9</td>\n",
              "      <td>Iris-virginica</td>\n",
              "      <td>Iris-virginica</td>\n",
              "      <td>Correct prediction</td>\n",
              "    </tr>\n",
              "    <tr>\n",
              "      <th>9</th>\n",
              "      <td>10</td>\n",
              "      <td>Iris-versicolor</td>\n",
              "      <td>Iris-versicolor</td>\n",
              "      <td>Correct prediction</td>\n",
              "    </tr>\n",
              "    <tr>\n",
              "      <th>10</th>\n",
              "      <td>11</td>\n",
              "      <td>Iris-virginica</td>\n",
              "      <td>Iris-virginica</td>\n",
              "      <td>Correct prediction</td>\n",
              "    </tr>\n",
              "    <tr>\n",
              "      <th>11</th>\n",
              "      <td>12</td>\n",
              "      <td>Iris-versicolor</td>\n",
              "      <td>Iris-versicolor</td>\n",
              "      <td>Correct prediction</td>\n",
              "    </tr>\n",
              "    <tr>\n",
              "      <th>12</th>\n",
              "      <td>13</td>\n",
              "      <td>Iris-virginica</td>\n",
              "      <td>Iris-virginica</td>\n",
              "      <td>Correct prediction</td>\n",
              "    </tr>\n",
              "    <tr>\n",
              "      <th>13</th>\n",
              "      <td>14</td>\n",
              "      <td>Iris-setosa</td>\n",
              "      <td>Iris-setosa</td>\n",
              "      <td>Correct prediction</td>\n",
              "    </tr>\n",
              "    <tr>\n",
              "      <th>14</th>\n",
              "      <td>15</td>\n",
              "      <td>Iris-virginica</td>\n",
              "      <td>Iris-virginica</td>\n",
              "      <td>Correct prediction</td>\n",
              "    </tr>\n",
              "    <tr>\n",
              "      <th>15</th>\n",
              "      <td>16</td>\n",
              "      <td>Iris-virginica</td>\n",
              "      <td>Iris-versicolor</td>\n",
              "      <td>Incorrect prediction</td>\n",
              "    </tr>\n",
              "    <tr>\n",
              "      <th>16</th>\n",
              "      <td>17</td>\n",
              "      <td>Iris-setosa</td>\n",
              "      <td>Iris-setosa</td>\n",
              "      <td>Correct prediction</td>\n",
              "    </tr>\n",
              "    <tr>\n",
              "      <th>17</th>\n",
              "      <td>18</td>\n",
              "      <td>Iris-setosa</td>\n",
              "      <td>Iris-setosa</td>\n",
              "      <td>Correct prediction</td>\n",
              "    </tr>\n",
              "    <tr>\n",
              "      <th>18</th>\n",
              "      <td>19</td>\n",
              "      <td>Iris-setosa</td>\n",
              "      <td>Iris-setosa</td>\n",
              "      <td>Correct prediction</td>\n",
              "    </tr>\n",
              "    <tr>\n",
              "      <th>19</th>\n",
              "      <td>20</td>\n",
              "      <td>Iris-versicolor</td>\n",
              "      <td>Iris-versicolor</td>\n",
              "      <td>Correct prediction</td>\n",
              "    </tr>\n",
              "    <tr>\n",
              "      <th>20</th>\n",
              "      <td>21</td>\n",
              "      <td>Iris-virginica</td>\n",
              "      <td>Iris-virginica</td>\n",
              "      <td>Correct prediction</td>\n",
              "    </tr>\n",
              "    <tr>\n",
              "      <th>21</th>\n",
              "      <td>22</td>\n",
              "      <td>Iris-versicolor</td>\n",
              "      <td>Iris-versicolor</td>\n",
              "      <td>Correct prediction</td>\n",
              "    </tr>\n",
              "    <tr>\n",
              "      <th>22</th>\n",
              "      <td>23</td>\n",
              "      <td>Iris-setosa</td>\n",
              "      <td>Iris-setosa</td>\n",
              "      <td>Correct prediction</td>\n",
              "    </tr>\n",
              "    <tr>\n",
              "      <th>23</th>\n",
              "      <td>24</td>\n",
              "      <td>Iris-setosa</td>\n",
              "      <td>Iris-setosa</td>\n",
              "      <td>Correct prediction</td>\n",
              "    </tr>\n",
              "    <tr>\n",
              "      <th>24</th>\n",
              "      <td>25</td>\n",
              "      <td>Iris-setosa</td>\n",
              "      <td>Iris-setosa</td>\n",
              "      <td>Correct prediction</td>\n",
              "    </tr>\n",
              "    <tr>\n",
              "      <th>25</th>\n",
              "      <td>26</td>\n",
              "      <td>Iris-virginica</td>\n",
              "      <td>Iris-virginica</td>\n",
              "      <td>Correct prediction</td>\n",
              "    </tr>\n",
              "    <tr>\n",
              "      <th>26</th>\n",
              "      <td>27</td>\n",
              "      <td>Iris-versicolor</td>\n",
              "      <td>Iris-versicolor</td>\n",
              "      <td>Correct prediction</td>\n",
              "    </tr>\n",
              "    <tr>\n",
              "      <th>27</th>\n",
              "      <td>28</td>\n",
              "      <td>Iris-virginica</td>\n",
              "      <td>Iris-virginica</td>\n",
              "      <td>Correct prediction</td>\n",
              "    </tr>\n",
              "    <tr>\n",
              "      <th>28</th>\n",
              "      <td>29</td>\n",
              "      <td>Iris-setosa</td>\n",
              "      <td>Iris-setosa</td>\n",
              "      <td>Correct prediction</td>\n",
              "    </tr>\n",
              "    <tr>\n",
              "      <th>29</th>\n",
              "      <td>30</td>\n",
              "      <td>Iris-virginica</td>\n",
              "      <td>Iris-virginica</td>\n",
              "      <td>Correct prediction</td>\n",
              "    </tr>\n",
              "  </tbody>\n",
              "</table>\n",
              "</div>"
            ],
            "text/plain": [
              "    Test Case   Actual Species       Prediction              Comments\n",
              "0           1  Iris-versicolor  Iris-versicolor    Correct prediction\n",
              "1           2  Iris-versicolor  Iris-versicolor    Correct prediction\n",
              "2           3  Iris-versicolor  Iris-versicolor    Correct prediction\n",
              "3           4   Iris-virginica   Iris-virginica    Correct prediction\n",
              "4           5      Iris-setosa      Iris-setosa    Correct prediction\n",
              "5           6      Iris-setosa      Iris-setosa    Correct prediction\n",
              "6           7  Iris-versicolor  Iris-versicolor    Correct prediction\n",
              "7           8  Iris-versicolor  Iris-versicolor    Correct prediction\n",
              "8           9   Iris-virginica   Iris-virginica    Correct prediction\n",
              "9          10  Iris-versicolor  Iris-versicolor    Correct prediction\n",
              "10         11   Iris-virginica   Iris-virginica    Correct prediction\n",
              "11         12  Iris-versicolor  Iris-versicolor    Correct prediction\n",
              "12         13   Iris-virginica   Iris-virginica    Correct prediction\n",
              "13         14      Iris-setosa      Iris-setosa    Correct prediction\n",
              "14         15   Iris-virginica   Iris-virginica    Correct prediction\n",
              "15         16   Iris-virginica  Iris-versicolor  Incorrect prediction\n",
              "16         17      Iris-setosa      Iris-setosa    Correct prediction\n",
              "17         18      Iris-setosa      Iris-setosa    Correct prediction\n",
              "18         19      Iris-setosa      Iris-setosa    Correct prediction\n",
              "19         20  Iris-versicolor  Iris-versicolor    Correct prediction\n",
              "20         21   Iris-virginica   Iris-virginica    Correct prediction\n",
              "21         22  Iris-versicolor  Iris-versicolor    Correct prediction\n",
              "22         23      Iris-setosa      Iris-setosa    Correct prediction\n",
              "23         24      Iris-setosa      Iris-setosa    Correct prediction\n",
              "24         25      Iris-setosa      Iris-setosa    Correct prediction\n",
              "25         26   Iris-virginica   Iris-virginica    Correct prediction\n",
              "26         27  Iris-versicolor  Iris-versicolor    Correct prediction\n",
              "27         28   Iris-virginica   Iris-virginica    Correct prediction\n",
              "28         29      Iris-setosa      Iris-setosa    Correct prediction\n",
              "29         30   Iris-virginica   Iris-virginica    Correct prediction"
            ]
          },
          "metadata": {
            "tags": []
          },
          "execution_count": 10
        }
      ]
    },
    {
      "cell_type": "markdown",
      "metadata": {
        "id": "LjoFGRFJh2QS",
        "colab_type": "text"
      },
      "source": [
        "#THANK YOU\n",
        "Made by: Neeraj Sreedhar(NIT GOA) \\\\"
      ]
    }
  ]
}